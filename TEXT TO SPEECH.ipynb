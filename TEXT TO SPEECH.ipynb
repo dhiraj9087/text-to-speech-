{
 "cells": [
  {
   "cell_type": "code",
   "execution_count": 3,
   "id": "3dff54f5",
   "metadata": {},
   "outputs": [],
   "source": [
    "import tkinter as tk   #to create gui in python"
   ]
  },
  {
   "cell_type": "code",
   "execution_count": 4,
   "id": "b12eed67",
   "metadata": {},
   "outputs": [],
   "source": [
    "from tkinter import *"
   ]
  },
  {
   "cell_type": "code",
   "execution_count": 6,
   "id": "293f77d5",
   "metadata": {},
   "outputs": [],
   "source": [
    "from tkinter import filedialog    #making windows or selecting files"
   ]
  },
  {
   "cell_type": "code",
   "execution_count": 7,
   "id": "2692d90b",
   "metadata": {},
   "outputs": [],
   "source": [
    "from tkinter.ttk import Combobox  #"
   ]
  },
  {
   "cell_type": "code",
   "execution_count": 8,
   "id": "b31409f1",
   "metadata": {},
   "outputs": [],
   "source": [
    "import pyttsx3 #text to speech lib"
   ]
  },
  {
   "cell_type": "code",
   "execution_count": 9,
   "id": "75b63efe",
   "metadata": {},
   "outputs": [],
   "source": [
    "import os"
   ]
  },
  {
   "cell_type": "code",
   "execution_count": 13,
   "id": "5fe6e4eb",
   "metadata": {},
   "outputs": [
    {
     "name": "stdout",
     "output_type": "stream",
     "text": [
      "Requirement already satisfied: gTTS in ./miniconda3/lib/python3.11/site-packages (2.4.0)\r\n",
      "Requirement already satisfied: requests<3,>=2.27 in ./miniconda3/lib/python3.11/site-packages (from gTTS) (2.29.0)\r\n",
      "Requirement already satisfied: click<8.2,>=7.1 in ./miniconda3/lib/python3.11/site-packages (from gTTS) (8.1.7)\r\n",
      "Requirement already satisfied: charset-normalizer<4,>=2 in ./miniconda3/lib/python3.11/site-packages (from requests<3,>=2.27->gTTS) (2.0.4)\r\n",
      "Requirement already satisfied: idna<4,>=2.5 in ./miniconda3/lib/python3.11/site-packages (from requests<3,>=2.27->gTTS) (3.4)\r\n",
      "Requirement already satisfied: urllib3<1.27,>=1.21.1 in ./miniconda3/lib/python3.11/site-packages (from requests<3,>=2.27->gTTS) (1.26.16)\r\n",
      "Requirement already satisfied: certifi>=2017.4.17 in ./miniconda3/lib/python3.11/site-packages (from requests<3,>=2.27->gTTS) (2023.5.7)\r\n"
     ]
    }
   ],
   "source": [
    "!pip install gTTS"
   ]
  },
  {
   "cell_type": "code",
   "execution_count": 2,
   "id": "46824f9e",
   "metadata": {},
   "outputs": [],
   "source": [
    "# from gtts import gTTS  #google text to speech "
   ]
  },
  {
   "cell_type": "code",
   "execution_count": 3,
   "id": "73897da1",
   "metadata": {},
   "outputs": [],
   "source": [
    "# from playsound import playsound"
   ]
  },
  {
   "cell_type": "code",
   "execution_count": 19,
   "id": "2f92f98b",
   "metadata": {},
   "outputs": [],
   "source": []
  },
  {
   "cell_type": "code",
   "execution_count": 4,
   "id": "8294b7dc",
   "metadata": {},
   "outputs": [],
   "source": [
    "import tkinter as tk\n",
    "from tkinter import *\n",
    "from tkinter import filedialog\n",
    "import tkinter    #making windows or selecting files\n",
    "from tkinter.ttk import Combobox  #\n",
    "import pyttsx3 #text to speech lib\n",
    "import os\n",
    "# !pip install gTTS\n",
    "from gtts import gTTS  #google text to speech \n",
    "from playsound import playsound\n",
    "root = Tk()\n",
    "root.title(\"text to speech\")\n",
    "root.geometry(\"1000x580+200+80\")\n",
    "root.resizable(True,True)\n",
    "root.configure(bg='#F7AC40')\n",
    "tts=pyttsx3.init()\n",
    "def specknow():\n",
    "    text=text_box.get(1.0,END)\n",
    "    gender=gender_box.get()\n",
    "    speed=speed_box.get()\n",
    "    voices = tts.getProperty('voices')\n",
    "\n",
    "    def setvoice():\n",
    "        if gender=='Male':\n",
    "            tts.setProperty('voice',voices[0].id)\n",
    "            tts.say(text)\n",
    "            tts.runAndWait()\n",
    "        else:\n",
    "            tts.setProperty('voice',voices[1].id)\n",
    "            tts.say(text)\n",
    "            tts.runAndWait()\n",
    "    if text:\n",
    "        if speed=='Fast':\n",
    "            tts.setProperty('rate',250)\n",
    "            setvoice()\n",
    "        elif speed=='Medium':\n",
    "            tts.setProperty('rate',150)\n",
    "            setvoice()\n",
    "        else:\n",
    "            tts.setProperty('rate',50)\n",
    "            setvoice()\n",
    "\n",
    "# root.mainloop()\n",
    "# logo=PhotoImage(file='/Users/dhirajmarathe/Desktop/texttospeech/leo4.png')\n",
    "# Label(root,image=logo,bg='#F7AC40').place(x=880,y=530)\n",
    "# root.mainloop()\n",
    "upper_frame = Frame(root,bg='#14A7DD',width=1200,height=150)\n",
    "upper_frame.place(x=0,y=0)\n",
    "Label(upper_frame,text='Text to speech',font='TimesNewRoman 40 bold',bg='#14A7DD',fg='white').place(x=250,y=35)\n",
    "text_box=Text(root,font=\"calibri 20\",bg=\"white\",relief=GROOVE,wrap=WORD,bd=0)\n",
    "text_box.place(x=50,y=200,width=940,height=200)\n",
    "gender_box=Combobox(root,values=['Male','Female'],font='Robote 12',state='r',width=12)\n",
    "gender_box.place(x=340,y=450)\n",
    "gender_box.set('Male')\n",
    "speed_box=Combobox(root,values=['Fast','Medium','Slow'],font='Robote 12',state='r',width=12)\n",
    "speed_box.place(x=500,y=450)\n",
    "speed_box.set('Medium')\n",
    "Label(root,text='Select voice',font='TimesNewRoman 15 bold',bg='#F7AC40',fg='white').place(x=340,y=420)\n",
    "Label(root,text='Select speed ',font='TimesNewRoman 15 bold',bg='#F7AC40',fg='white').place(x=500,y=420)\n",
    "play_btn = Button(root,text='Play',compound=LEFT,bg='white',width=30,font='arial 14 bold',borderwidth='0.4c',command=specknow)\n",
    "play_btn.place(x=350,y=500)\n",
    "root.mainloop()"
   ]
  },
  {
   "cell_type": "code",
   "execution_count": null,
   "id": "cfdec9fb",
   "metadata": {},
   "outputs": [],
   "source": []
  },
  {
   "cell_type": "code",
   "execution_count": null,
   "id": "adf790e4",
   "metadata": {},
   "outputs": [],
   "source": []
  },
  {
   "cell_type": "code",
   "execution_count": null,
   "id": "f0e143ed",
   "metadata": {
    "scrolled": true
   },
   "outputs": [],
   "source": []
  },
  {
   "cell_type": "code",
   "execution_count": null,
   "id": "9cd2e51c",
   "metadata": {},
   "outputs": [],
   "source": []
  },
  {
   "cell_type": "code",
   "execution_count": null,
   "id": "a6c39e6c",
   "metadata": {},
   "outputs": [],
   "source": []
  }
 ],
 "metadata": {
  "kernelspec": {
   "display_name": "Python 3 (ipykernel)",
   "language": "python",
   "name": "python3"
  },
  "language_info": {
   "codemirror_mode": {
    "name": "ipython",
    "version": 3
   },
   "file_extension": ".py",
   "mimetype": "text/x-python",
   "name": "python",
   "nbconvert_exporter": "python",
   "pygments_lexer": "ipython3",
   "version": "3.9.12"
  }
 },
 "nbformat": 4,
 "nbformat_minor": 5
}
